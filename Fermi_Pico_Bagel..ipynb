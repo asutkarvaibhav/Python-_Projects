{
  "cells": [
    {
      "cell_type": "code",
      "execution_count": 1,
      "id": "57a0a2d0",
      "metadata": {
        "id": "57a0a2d0"
      },
      "outputs": [],
      "source": []
    },
    {
      "cell_type": "markdown",
      "source": [
        "## Fermi Pico Bagel\n",
        "\n",
        "\n",
        "## Step 1\n",
        "Store any number in string format(number to be guessed by player) in a variable `original_number`.\n",
        "\n",
        "For Example: original_number = '123'\n"
      ],
      "metadata": {
        "id": "oXasGvH6VjKy"
      },
      "id": "oXasGvH6VjKy"
    },
    {
      "cell_type": "code",
      "source": [
        "original_number = '123'"
      ],
      "metadata": {
        "id": "y-uHg1HQT4uV"
      },
      "id": "y-uHg1HQT4uV",
      "execution_count": 1,
      "outputs": []
    },
    {
      "cell_type": "markdown",
      "id": "fd43340c",
      "metadata": {
        "id": "fd43340c"
      },
      "source": [
        "mber i.e- `str`)## Step 2\n",
        "Take a number as user input and save it in a variable `guess_number`.(Make sure that the datatype of guess_number is same as of original nu"
      ]
    },
    {
      "cell_type": "code",
      "execution_count": 2,
      "id": "2e0075a7",
      "metadata": {
        "colab": {
          "base_uri": "https://localhost:8080/"
        },
        "id": "2e0075a7",
        "outputId": "a41888e2-d8c1-45bc-ff23-5dc56c3c50eb"
      },
      "outputs": [
        {
          "name": "stdout",
          "output_type": "stream",
          "text": [
            "345\n"
          ]
        }
      ],
      "source": [
        "## Your code goes here\n",
        "guess_number = input()"
      ]
    },
    {
      "cell_type": "markdown",
      "id": "22318243",
      "metadata": {
        "id": "22318243"
      },
      "source": [
        "## Step 3\n",
        "Check if total number of digits in `original_number` and `guess_number` is not same(Use `len()` function) then ask user for valid input.(First use `len()` to get total digits in `original_number` and `guess_number`.)"
      ]
    },
    {
      "cell_type": "code",
      "execution_count": 3,
      "id": "258e2971",
      "metadata": {
        "id": "258e2971"
      },
      "outputs": [],
      "source": [
        "## Your code goes here\n",
        "if len(original_number)!=len(guess_number):\n",
        " print('enter valid input')\n"
      ]
    },
    {
      "cell_type": "markdown",
      "id": "0c064bda",
      "metadata": {
        "id": "0c064bda"
      },
      "source": [
        "## Step 4\n",
        "Using `set()`, check if the digits are repeated in a `guess_number` .\n",
        "Note that datatype `set` allows unique values only.\n",
        "\n",
        "For ex. if `user_input`is 122, then it should print the string 'Duplicate number'  as digit 2 is repeated."
      ]
    },
    {
      "cell_type": "code",
      "execution_count": 4,
      "id": "7b5ef10d",
      "metadata": {
        "colab": {
          "base_uri": "https://localhost:8080/"
        },
        "id": "7b5ef10d",
        "outputId": "a138ae95-27e1-47c6-f0fd-d4f65f2e398d"
      },
      "outputs": [
        {
          "output_type": "execute_result",
          "data": {
            "text/plain": [
              "{'3', '4', '5'}"
            ]
          },
          "metadata": {},
          "execution_count": 4
        }
      ],
      "source": [
        "## Your code goes here\n",
        "set(guess_number)"
      ]
    },
    {
      "cell_type": "markdown",
      "id": "0514b8d9",
      "metadata": {
        "id": "0514b8d9"
      },
      "source": [
        "## Step 5\n",
        "Check winning condition i.e. if both `guess_number` and `original_number` are same, then print 'Fermi' as many number of times as number of digits in a number and print ' You win !! '.\n"
      ]
    },
    {
      "cell_type": "code",
      "execution_count": 5,
      "id": "ab9379a5",
      "metadata": {
        "id": "ab9379a5"
      },
      "outputs": [],
      "source": [
        "## Your code goes here\n",
        "if guess_number == original_number:\n",
        "  print('fermi'*len(guess_number))\n",
        "  print('you win')"
      ]
    },
    {
      "cell_type": "markdown",
      "id": "96eca378",
      "metadata": {
        "id": "96eca378"
      },
      "source": [
        "## Step 6\n",
        "Create empty list called `output` where we will store the output in the form of list.\n",
        "\n",
        "For example: output = [ ' Fermi ', ' Pico ' ,' Pico ' ] ."
      ]
    },
    {
      "cell_type": "code",
      "execution_count": 6,
      "id": "c047a839",
      "metadata": {
        "id": "c047a839",
        "colab": {
          "base_uri": "https://localhost:8080/"
        },
        "outputId": "44415ba6-4958-49c9-9d85-09ef3f225e48"
      },
      "outputs": [
        {
          "output_type": "execute_result",
          "data": {
            "text/plain": [
              "[]"
            ]
          },
          "metadata": {},
          "execution_count": 6
        }
      ],
      "source": [
        "## Your code goes here\n",
        "output = []\n",
        "output"
      ]
    },
    {
      "cell_type": "markdown",
      "id": "4949309d",
      "metadata": {
        "id": "4949309d"
      },
      "source": [
        "## Step 7\n",
        "Check if any digit and it's position in both `guess_number` and `original_number` are same then append 'Fermi' to `output` list or if only digit matches and not the position then append 'Pico' to `output`.\n"
      ]
    },
    {
      "cell_type": "code",
      "execution_count": 7,
      "id": "7dbe3800",
      "metadata": {
        "id": "7dbe3800"
      },
      "outputs": [],
      "source": [
        "## Your code goes here\n",
        "for i in range(len(original_number)):\n",
        "        if guess_number[i] == original_number[i]:\n",
        "            output.append('fermi')\n",
        "        elif guess_number[i] in original_number:\n",
        "            output.append('pico')"
      ]
    },
    {
      "cell_type": "code",
      "source": [
        "print(output)"
      ],
      "metadata": {
        "colab": {
          "base_uri": "https://localhost:8080/"
        },
        "id": "SPcFZku5Zumq",
        "outputId": "2514e99b-a783-4bc0-fb88-0153ade52153"
      },
      "id": "SPcFZku5Zumq",
      "execution_count": 8,
      "outputs": [
        {
          "output_type": "stream",
          "name": "stdout",
          "text": [
            "['pico']\n"
          ]
        }
      ]
    },
    {
      "cell_type": "markdown",
      "id": "59e62457",
      "metadata": {
        "id": "59e62457"
      },
      "source": [
        "## Step 8\n",
        "Define a variable called `output_string` which has all values from a list `output` with each value separated by space. (Use 'for' loop to get all the values from a list `output`.)"
      ]
    },
    {
      "cell_type": "code",
      "execution_count": 9,
      "id": "d15c8f60",
      "metadata": {
        "colab": {
          "base_uri": "https://localhost:8080/"
        },
        "id": "d15c8f60",
        "outputId": "23081fcc-81fd-458e-a096-d277c6bf4bd0"
      },
      "outputs": [
        {
          "output_type": "stream",
          "name": "stdout",
          "text": [
            "pico\n"
          ]
        }
      ],
      "source": [
        "## Your code goes here\n",
        "output_string = \" \".join(output)\n",
        "print(output_string)"
      ]
    },
    {
      "cell_type": "markdown",
      "id": "f3f50bef",
      "metadata": {
        "id": "f3f50bef"
      },
      "source": [
        "## Step 9\n",
        "Check if neither any digit nor any position matches i.e. if length of `output` list is zero then print `Bagel`.\n",
        "\n",
        "Otherwise print `output_string`."
      ]
    },
    {
      "cell_type": "code",
      "execution_count": 10,
      "id": "3c568356",
      "metadata": {
        "colab": {
          "base_uri": "https://localhost:8080/"
        },
        "id": "3c568356",
        "outputId": "720d6ff7-ca38-4d5d-9485-aa550c7ae25d"
      },
      "outputs": [
        {
          "output_type": "stream",
          "name": "stdout",
          "text": [
            "pico\n"
          ]
        }
      ],
      "source": [
        "## Your code goes here\n",
        "if len(output)==0:\n",
        "    print('Bagel')\n",
        "else:\n",
        "    print(output_string)"
      ]
    },
    {
      "cell_type": "markdown",
      "id": "9d4a684d",
      "metadata": {
        "id": "9d4a684d"
      },
      "source": [
        "## Step 10\n",
        "\n",
        "## Complete game\n",
        "Here use continue and break statements at appropriate places."
      ]
    },
    {
      "cell_type": "code",
      "execution_count": 12,
      "id": "79843cdf",
      "metadata": {
        "id": "79843cdf",
        "colab": {
          "base_uri": "https://localhost:8080/"
        },
        "outputId": "171d982f-fd8a-4071-d522-260c7ae288f2"
      },
      "outputs": [
        {
          "output_type": "stream",
          "name": "stdout",
          "text": [
            "Enter The Original Number :- 456\n",
            "Enter The Guess Number :- 987\n",
            "Begal\n",
            "Enter The Guess Number :- 432\n",
            "fermi\n",
            "Enter The Guess Number :- 564\n",
            "pico pico pico\n",
            "Enter The Guess Number :- 456\n",
            "fermi fermi fermi\n",
            "Won\n"
          ]
        }
      ],
      "source": [
        "## step 1\n",
        "original_number = input('Enter The Original Number :- ')\n",
        "\n",
        "\n",
        "while True:\n",
        "  guess_number = input('Enter The Guess Number :- ')\n",
        "  output = []\n",
        "\n",
        "  if len(guess_number)!=len(set(guess_number)):\n",
        "    print('enter valid input')\n",
        "    continue\n",
        "\n",
        "  for i in range(len(original_number)):\n",
        "    if guess_number[i] == original_number[i]:\n",
        "      output.append('fermi')\n",
        "    elif guess_number[i] in original_number:\n",
        "      output.append('pico')\n",
        "\n",
        "  if len(output) == 0:\n",
        "    output.append('Begal')\n",
        "\n",
        "  output_string = \" \".join(output)\n",
        "  print(output_string)\n",
        "\n",
        "  if len(output) == len(original_number) and 'begal' not in output and 'pico' not in output:\n",
        "    print('Won')\n",
        "    break"
      ]
    },
    {
      "cell_type": "code",
      "source": [],
      "metadata": {
        "id": "Y75V8AFBSL25"
      },
      "id": "Y75V8AFBSL25",
      "execution_count": 11,
      "outputs": []
    },
    {
      "cell_type": "code",
      "source": [],
      "metadata": {
        "id": "PngWaHrebozD"
      },
      "id": "PngWaHrebozD",
      "execution_count": null,
      "outputs": []
    }
  ],
  "metadata": {
    "kernelspec": {
      "display_name": "Python 3",
      "language": "python",
      "name": "python3"
    },
    "language_info": {
      "codemirror_mode": {
        "name": "ipython",
        "version": 3
      },
      "file_extension": ".py",
      "mimetype": "text/x-python",
      "name": "python",
      "nbconvert_exporter": "python",
      "pygments_lexer": "ipython3",
      "version": "3.8.8"
    },
    "colab": {
      "provenance": []
    }
  },
  "nbformat": 4,
  "nbformat_minor": 5
}