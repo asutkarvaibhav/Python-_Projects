{
  "cells": [
    {
      "cell_type": "markdown",
      "id": "303d18ca",
      "metadata": {
        "id": "303d18ca"
      },
      "source": [
        "## OOP project"
      ]
    },
    {
      "cell_type": "markdown",
      "id": "5cada111",
      "metadata": {
        "id": "5cada111"
      },
      "source": [
        "A Bike Rental System\n",
        "\n",
        "A full fledged bike rental system implemented in Python using object oriented programming.\n",
        "\n",
        "Customers can see available bikes on the shop.\n",
        "Rent bikes on daily basis Rs.100 per day.\n",
        "Rent bikes on weekly basis Rs.500 per week.\n",
        "Family Rental, a promotion that can include from 3 to 5 Rentals (of any type) with a discount of 30% of the total price.\n",
        "\n",
        "The bike rental shop can issue a bill when customer decides to return the bike,\n",
        "display available inventory ,take requests on daily and weekly basis by cross verifying stock.\n",
        "\n",
        "For simplicity we assume that\n",
        "Any customer requests rentals of only one type i.e daily or weekly and is free to choose the number of bikes he/she wants.\n",
        "Requested bikes should be less than available stock."
      ]
    },
    {
      "cell_type": "code",
      "execution_count": 42,
      "id": "81b2891a",
      "metadata": {
        "id": "81b2891a"
      },
      "outputs": [],
      "source": []
    },
    {
      "cell_type": "markdown",
      "id": "abae9162",
      "metadata": {
        "id": "abae9162"
      },
      "source": [
        "## Step 1\n",
        "\n",
        "Create a parent class `BikeRental`. Define `stock` as `class attribute` and assign value 100 to it.\n",
        "\n",
        "This class should not take any other attribute and when the object is created, it should display the message \"Welcome to rental bike shop.\"\n",
        "\n",
        "Define a method `displaystock` inside this class and when this method is called, it should display the total number of stock available."
      ]
    },
    {
      "cell_type": "code",
      "execution_count": 43,
      "id": "8816e06c",
      "metadata": {
        "id": "8816e06c"
      },
      "outputs": [],
      "source": [
        "## your code goes here ##\n",
        "class BikeRental():\n",
        "  def __init__(self,stock=100):\n",
        "    self.stock=stock\n",
        "    print(\"Welcome to rental bike shop.\")\n",
        "\n",
        "  def displaystock(self):\n",
        "    return 'total number of stock available=',self.stock\n",
        "\n"
      ]
    },
    {
      "cell_type": "markdown",
      "id": "2ca3fb5c",
      "metadata": {
        "id": "2ca3fb5c"
      },
      "source": [
        "Create an object `bike_shop` of above class."
      ]
    },
    {
      "cell_type": "code",
      "execution_count": 44,
      "id": "ef59df60",
      "metadata": {
        "colab": {
          "base_uri": "https://localhost:8080/"
        },
        "id": "ef59df60",
        "outputId": "9349eab3-02ad-4451-d432-8ec107facce7"
      },
      "outputs": [
        {
          "output_type": "stream",
          "name": "stdout",
          "text": [
            "Welcome to rental bike shop.\n"
          ]
        }
      ],
      "source": [
        "bike_shop=BikeRental()"
      ]
    },
    {
      "cell_type": "markdown",
      "id": "73d006a8",
      "metadata": {
        "id": "73d006a8"
      },
      "source": [
        "Check if above created object can access the `class attribute` `stock`."
      ]
    },
    {
      "cell_type": "code",
      "execution_count": 45,
      "id": "4460bd03",
      "metadata": {
        "colab": {
          "base_uri": "https://localhost:8080/"
        },
        "id": "4460bd03",
        "outputId": "45e8b2ff-c19d-46eb-d6fd-ef5d94a6ca68"
      },
      "outputs": [
        {
          "output_type": "execute_result",
          "data": {
            "text/plain": [
              "('total number of stock available=', 100)"
            ]
          },
          "metadata": {},
          "execution_count": 45
        }
      ],
      "source": [
        "bike_shop.displaystock()"
      ]
    },
    {
      "cell_type": "markdown",
      "id": "a702f97d",
      "metadata": {
        "id": "a702f97d"
      },
      "source": [
        "Call the method `displaystock` using above created object `bike_shop`."
      ]
    },
    {
      "cell_type": "code",
      "execution_count": 46,
      "id": "6a859671",
      "metadata": {
        "colab": {
          "base_uri": "https://localhost:8080/"
        },
        "id": "6a859671",
        "outputId": "4e8928ac-24dc-49c9-af4e-92effa67d577"
      },
      "outputs": [
        {
          "output_type": "execute_result",
          "data": {
            "text/plain": [
              "('total number of stock available=', 100)"
            ]
          },
          "metadata": {},
          "execution_count": 46
        }
      ],
      "source": [
        "bike_shop.displaystock()"
      ]
    },
    {
      "cell_type": "markdown",
      "id": "d3a33de1",
      "metadata": {
        "id": "d3a33de1"
      },
      "source": [
        "## Step 2\n",
        "\n",
        "Create a derived class `Customer` to inherit the methods from `BikeRental` class.\n",
        "Define `bill` as `class attribute`and set it's initial value as zero.\n",
        "\n",
        "This class has `number_of_bikes`, `rentalBasis` (daily or weekly) and `number_of_days_or_weeks` as attributes."
      ]
    },
    {
      "cell_type": "code",
      "execution_count": 47,
      "id": "363883ea",
      "metadata": {
        "id": "363883ea"
      },
      "outputs": [],
      "source": [
        "class Customer(BikeRental):\n",
        "  def __init__(self,number_of_bikes, rentalBasis,number_of_days_or_weeks, bill=0):\n",
        "    self.number_of_bikes=number_of_bikes\n",
        "    self.rentalBasis=rentalBasis\n",
        "    self.number_of_days_or_weeks=number_of_days_or_weeks\n",
        "    self.bill=bill\n"
      ]
    },
    {
      "cell_type": "markdown",
      "id": "98a400fe",
      "metadata": {
        "id": "98a400fe"
      },
      "source": [
        "Define a function `rentBike`, it should have following conditions:\n",
        "\n",
        "- if `number_of_bikes` is less than or equal to zero, it should display the message \"Number of bikes should be positive!\".\n",
        "\n",
        "- if `number_of_bikes` is greater than the `stock`, it should display the `number_of_bikes` available to rent.\n",
        "\n",
        "- Otherwise display the total `number_of_bikes` rented by the customer. Do not forget to update the value of `stock` i.e. subtract the `number_of_bikes` rented from stock and display the updated `stock`."
      ]
    },
    {
      "cell_type": "code",
      "execution_count": 48,
      "id": "e66fb261",
      "metadata": {
        "id": "e66fb261"
      },
      "outputs": [],
      "source": [
        "def rentBike(self):\n",
        "  if self.number_of_bikes<=0:\n",
        "    print(\"Number of bikes should be positive!\")\n",
        "  elif self.number_of_bikes>self.stock:\n",
        "    print(self.number_of_bikes,'bikes available to rent')\n",
        "  else:\n",
        "    print(self.number_of_bikes,' bikes rented by the customer')\n",
        "    self.stock=self.stock-self.number_of_bikes\n",
        "    print('updated stocks = ',self.stock)\n"
      ]
    },
    {
      "cell_type": "markdown",
      "id": "cb22ec0f",
      "metadata": {
        "id": "cb22ec0f"
      },
      "source": [
        "Define a function `returnBike` to return the total bill of customer.\n",
        "- Check if `rentalBasis` is ' daily ' or ' weekly ' and accordingly calculate the bill. Rent on ' daily ' basis is Rs. 100 per bike and for ' weekly ' basis it is Rs. 500 per bike.\n",
        "\n",
        "- If `number_of_bikes` rented by customer is between 3 to 5 (both values inclusive), 30% discount is offered on total bill. So it should display the message \"You are eligible for Family rental promotion of 30% discount\"."
      ]
    },
    {
      "cell_type": "code",
      "execution_count": 49,
      "id": "29935c98",
      "metadata": {
        "id": "29935c98"
      },
      "outputs": [],
      "source": [
        "def returnBike(self):\n",
        "  if self.rentalBasis=='daily':\n",
        "    self.bill=self.number_of_bikes*100\n",
        "  elif self.rentalBasis=='weekly':\n",
        "     self.bill=self.number_of_bikes*500\n",
        "  elif self.number_of_bikes in (3,4,5):\n",
        "    self.total_bill = self.bill - (self.bill/100)*30\n",
        "    print('You are eligible for Family rental promotion of 30% discount.')"
      ]
    },
    {
      "cell_type": "markdown",
      "id": "fa66397a",
      "metadata": {
        "id": "fa66397a"
      },
      "source": [
        "## Step 3\n",
        "\n",
        "Write complete `Customer` class using above defined functions `returnBike` and `rentBike` inside it as methods."
      ]
    },
    {
      "cell_type": "code",
      "execution_count": 50,
      "id": "b8753564",
      "metadata": {
        "id": "b8753564"
      },
      "outputs": [],
      "source": [
        "class Customer(BikeRental):\n",
        "  def __init__(self,number_of_bikes, rentalBasis,number_of_days_or_weeks, bill=0):\n",
        "    self.number_of_bikes=number_of_bikes\n",
        "    self.rentalBasis=rentalBasis\n",
        "    self.number_of_days_or_weeks=number_of_days_or_weeks\n",
        "    self.bill=bill\n",
        "\n",
        "  def rentBike(self):\n",
        "    super().__init__()\n",
        "    if self.number_of_bikes<=0:\n",
        "      print(\"Number of bikes should be positive!\")\n",
        "    elif self.number_of_bikes>self.stock:\n",
        "      print(self.number_of_bikes,'bikes available to rent')\n",
        "    else:\n",
        "      print(self.number_of_bikes,' bikes rented by the customer')\n",
        "      self.stock=self.stock-self.number_of_bikes\n",
        "      print('updated stocks = ',self.stock)\n",
        "\n",
        "\n",
        "\n",
        "  def returnBike(self):\n",
        "    if self.rentalBasis=='daily':\n",
        "      self.total_bill=self.number_of_bikes*100\n",
        "      print('total bill = ',self.total_bill)\n",
        "    elif self.rentalBasis=='weekly':\n",
        "      self.total_bill=self.number_of_bikes*500\n",
        "      print('total bill = ',self.total_bill)\n",
        "    elif self.number_of_bikes in (3,4,5):\n",
        "      self.total_bill = self.bill - (self.bill/100)*30\n",
        "      print('total bill = ',self.total_bill)\n",
        "      print('You are eligible for Family rental promotion of 30% discount.')\n",
        "\n",
        "c1=Customer(2,'daily',5)\n",
        "c2=Customer(1,'weakly',3)"
      ]
    },
    {
      "cell_type": "markdown",
      "id": "dea7483f",
      "metadata": {
        "id": "dea7483f"
      },
      "source": [
        "## Step 4\n",
        "\n",
        "Check your `Bike Rental System` for test-case objects given below :\n",
        "\n",
        "For first four customers - check all the three attribute values and call `rentBike` and `returnBike` methods.\n",
        "\n",
        "- customer_1 = Customer(2,'day',5)\n",
        "\n",
        "- customer_2 = Customer(1,'week',3)\n",
        "\n",
        "- customer_3 = Customer(4,'day',3)  - Is family discount applicable here ?\n",
        "\n",
        "- customer_4 = Customer(3,'week',3) - Is family discount applicable here ?\n",
        "\n",
        "Call `rentBike` and `displaystock` methods for test-case objects given below :\n",
        "\n",
        "- customer_5 = Customer(120,'week',3)\n",
        "\n",
        "- customer_6 = Customer(0,'week',3)\n",
        "\n",
        "- customer_7 = Customer(-5,'week',3)\n",
        "\n",
        "- customer_8 = Customer(1,'day',3)"
      ]
    },
    {
      "cell_type": "code",
      "source": [
        "customer_1=Customer(2,'daily',5)\n",
        "customer_1.rentBike()\n",
        "customer_1.returnBike()"
      ],
      "metadata": {
        "id": "s2db9OgUXRF4",
        "colab": {
          "base_uri": "https://localhost:8080/"
        },
        "outputId": "c70e9033-5c2f-450d-8c6a-28d1fe6b34a1"
      },
      "id": "s2db9OgUXRF4",
      "execution_count": 51,
      "outputs": [
        {
          "output_type": "stream",
          "name": "stdout",
          "text": [
            "Welcome to rental bike shop.\n",
            "2  bikes rented by the customer\n",
            "updated stocks =  98\n",
            "total bill =  200\n"
          ]
        }
      ]
    },
    {
      "cell_type": "code",
      "execution_count": 52,
      "id": "40d0a7aa",
      "metadata": {
        "id": "40d0a7aa",
        "colab": {
          "base_uri": "https://localhost:8080/"
        },
        "outputId": "61b45102-370a-4e30-a74f-f589e135be33"
      },
      "outputs": [
        {
          "output_type": "stream",
          "name": "stdout",
          "text": [
            "Welcome to rental bike shop.\n",
            "1  bikes rented by the customer\n",
            "updated stocks =  99\n"
          ]
        }
      ],
      "source": [
        "customer_2=Customer(1,'weakly',3)\n",
        "customer_2.rentBike()\n",
        "customer_2.returnBike()"
      ]
    },
    {
      "cell_type": "code",
      "source": [
        "customer_3=Customer(4,'daily',3)\n",
        "customer_3.rentBike()\n",
        "customer_3.returnBike()"
      ],
      "metadata": {
        "id": "jHWM4BbAmNy8",
        "colab": {
          "base_uri": "https://localhost:8080/"
        },
        "outputId": "fe69b7b5-ac51-4084-fab4-c3307d4fba06"
      },
      "id": "jHWM4BbAmNy8",
      "execution_count": 53,
      "outputs": [
        {
          "output_type": "stream",
          "name": "stdout",
          "text": [
            "Welcome to rental bike shop.\n",
            "4  bikes rented by the customer\n",
            "updated stocks =  96\n",
            "total bill =  400\n"
          ]
        }
      ]
    },
    {
      "cell_type": "code",
      "source": [
        "customer_4=Customer(3,'weekly',3)\n",
        "customer_4.rentBike()\n",
        "customer_2.returnBike()"
      ],
      "metadata": {
        "id": "036FGaNzmREp",
        "colab": {
          "base_uri": "https://localhost:8080/"
        },
        "outputId": "3d5a9fa6-899a-49a9-87c5-90edad728af2"
      },
      "id": "036FGaNzmREp",
      "execution_count": 54,
      "outputs": [
        {
          "output_type": "stream",
          "name": "stdout",
          "text": [
            "Welcome to rental bike shop.\n",
            "3  bikes rented by the customer\n",
            "updated stocks =  97\n"
          ]
        }
      ]
    },
    {
      "cell_type": "code",
      "source": [
        "customer_5 = Customer(120,'week',3)\n",
        "customer_5.rentBike()\n",
        "customer_5.displaystock()"
      ],
      "metadata": {
        "colab": {
          "base_uri": "https://localhost:8080/"
        },
        "id": "vDBYYWg3gF-O",
        "outputId": "d595332b-43bc-4734-d476-1145fdb71c0d"
      },
      "id": "vDBYYWg3gF-O",
      "execution_count": 55,
      "outputs": [
        {
          "output_type": "stream",
          "name": "stdout",
          "text": [
            "Welcome to rental bike shop.\n",
            "120 bikes available to rent\n"
          ]
        },
        {
          "output_type": "execute_result",
          "data": {
            "text/plain": [
              "('total number of stock available=', 100)"
            ]
          },
          "metadata": {},
          "execution_count": 55
        }
      ]
    },
    {
      "cell_type": "code",
      "source": [
        "customer_6 = Customer(0,'week',3)\n",
        "customer_6.rentBike()\n",
        "customer_6.displaystock()"
      ],
      "metadata": {
        "colab": {
          "base_uri": "https://localhost:8080/"
        },
        "id": "7moKlpgwgGA8",
        "outputId": "6ad0ad83-5b14-421e-de72-ba5c20943cfb"
      },
      "id": "7moKlpgwgGA8",
      "execution_count": 56,
      "outputs": [
        {
          "output_type": "stream",
          "name": "stdout",
          "text": [
            "Welcome to rental bike shop.\n",
            "Number of bikes should be positive!\n"
          ]
        },
        {
          "output_type": "execute_result",
          "data": {
            "text/plain": [
              "('total number of stock available=', 100)"
            ]
          },
          "metadata": {},
          "execution_count": 56
        }
      ]
    },
    {
      "cell_type": "code",
      "source": [
        "customer_7 = Customer(-5,'week',3)\n",
        "customer_7.rentBike()\n",
        "customer_7.displaystock()"
      ],
      "metadata": {
        "colab": {
          "base_uri": "https://localhost:8080/"
        },
        "id": "YT96fL55gGDt",
        "outputId": "fa1aee0c-cb61-4d9c-b118-82a7438b8292"
      },
      "id": "YT96fL55gGDt",
      "execution_count": 57,
      "outputs": [
        {
          "output_type": "stream",
          "name": "stdout",
          "text": [
            "Welcome to rental bike shop.\n",
            "Number of bikes should be positive!\n"
          ]
        },
        {
          "output_type": "execute_result",
          "data": {
            "text/plain": [
              "('total number of stock available=', 100)"
            ]
          },
          "metadata": {},
          "execution_count": 57
        }
      ]
    },
    {
      "cell_type": "code",
      "source": [
        "customer_8 = Customer(1,'day',3)\n",
        "customer_8.rentBike()\n",
        "customer_8.displaystock()"
      ],
      "metadata": {
        "colab": {
          "base_uri": "https://localhost:8080/"
        },
        "id": "p5dFRJI7gGGa",
        "outputId": "020d5d4e-29bb-44f5-f34d-bdd9d719ec73"
      },
      "id": "p5dFRJI7gGGa",
      "execution_count": 58,
      "outputs": [
        {
          "output_type": "stream",
          "name": "stdout",
          "text": [
            "Welcome to rental bike shop.\n",
            "1  bikes rented by the customer\n",
            "updated stocks =  99\n"
          ]
        },
        {
          "output_type": "execute_result",
          "data": {
            "text/plain": [
              "('total number of stock available=', 99)"
            ]
          },
          "metadata": {},
          "execution_count": 58
        }
      ]
    },
    {
      "cell_type": "code",
      "source": [],
      "metadata": {
        "id": "YwuByEisgGJs"
      },
      "id": "YwuByEisgGJs",
      "execution_count": 58,
      "outputs": []
    }
  ],
  "metadata": {
    "kernelspec": {
      "display_name": "Python 3",
      "language": "python",
      "name": "python3"
    },
    "language_info": {
      "codemirror_mode": {
        "name": "ipython",
        "version": 3
      },
      "file_extension": ".py",
      "mimetype": "text/x-python",
      "name": "python",
      "nbconvert_exporter": "python",
      "pygments_lexer": "ipython3",
      "version": "3.8.8"
    },
    "colab": {
      "provenance": []
    }
  },
  "nbformat": 4,
  "nbformat_minor": 5
}