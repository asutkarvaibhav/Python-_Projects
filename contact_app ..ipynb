{
  "cells": [
    {
      "cell_type": "markdown",
      "metadata": {
        "id": "-v3lDK1hYAf9"
      },
      "source": [
        "# Contact app\n",
        "\n",
        "You have learnt a lot of new things; data structures, string, regex & files. Lets use all our newly acquired knowledge to build a **contact app**, just like the ones in our smartphone.\n",
        "\n",
        "We will not be building a fancy UI, instead we will focus on understanding the programming logic.\n",
        "\n",
        "Lets get started!\n",
        "\n",
        "Think of all the features that your contact app has . . . !\n",
        "- It can show you all the contact names\n",
        "- You can search for contacts (using name)\n",
        "- You can see all the information associated with the contact\n",
        "- You can delete and update contacts\n",
        "\n",
        "Can you think of anything more ? Our contact app should have at least these features.\n",
        "- The app should show us all the contact names\n",
        "- It should allow us to select a contact and view all the information associated with the contact\n",
        "- It should allow us to update contact info & delete contact\n",
        "- Finally, it should show us all the contact names\n",
        "\n",
        "For every contact, we will store the `name`, `number` & `email`."
      ]
    },
    {
      "cell_type": "markdown",
      "metadata": {
        "id": "SYRs2zcwYAf_"
      },
      "source": [
        "### Data Structure\n",
        "The very first thing that we need to decide is \"What data structure to use?\"\n",
        "\n",
        "To store all the contacts, we can use a list of dictionaries; were each dictionary stores the `name`, `number` & `email`  of the contact.\n",
        "\n",
        "Create a list of dictionaries called `contacts` with 3 dummy contacts.  "
      ]
    },
    {
      "cell_type": "code",
      "execution_count": null,
      "metadata": {
        "id": "JXbuR2iWYAgA"
      },
      "outputs": [],
      "source": [
        "## your code here\n",
        "contacts = [{'name':'raj','number':'1234567891','email':'xyz@gmail.com'},{'name':'rohit','number':'4564564321','email':'abc@gmail.com'},{'name':'akash','number':'6789877465','email':'cde@gmail.com'}]\n"
      ]
    },
    {
      "cell_type": "markdown",
      "metadata": {
        "id": "xONpYmbfYAgB"
      },
      "source": [
        "### List all contact names\n",
        "Write `show_contacts` function that takes the `contacts` list and prints all the contact names. These names will help us to select the contact later."
      ]
    },
    {
      "cell_type": "code",
      "execution_count": null,
      "metadata": {
        "id": "pc9Mc389YAgB"
      },
      "outputs": [],
      "source": [
        "def show_contacts(contacts):\n",
        "  for i in contacts:\n",
        "    print(i['name'])\n",
        "\n",
        "    ## your code here"
      ]
    },
    {
      "cell_type": "code",
      "execution_count": null,
      "metadata": {
        "colab": {
          "base_uri": "https://localhost:8080/"
        },
        "id": "krgjxvBhYAgC",
        "outputId": "45c1c6fa-09c2-40bd-ff26-498d94761c95"
      },
      "outputs": [
        {
          "output_type": "stream",
          "name": "stdout",
          "text": [
            "raj\n",
            "rohit\n",
            "akash\n"
          ]
        }
      ],
      "source": [
        "show_contacts(contacts)\n"
      ]
    },
    {
      "cell_type": "markdown",
      "metadata": {
        "id": "w9RSU2HWYAgC"
      },
      "source": [
        "### Add a new Contact\n",
        "\n",
        "Write `add_contact` function that takes user input and *adds new contact* dictionary to the existing list of `contacts`."
      ]
    },
    {
      "cell_type": "code",
      "execution_count": null,
      "metadata": {
        "id": "qMXY3x-HYAgC"
      },
      "outputs": [],
      "source": [
        "def add_contact(contacts):\n",
        "  x=['name','number','email']\n",
        "  x1={i:input()for i in x}\n",
        "  contacts.append(x1)\n",
        "  return contacts\n",
        "\n",
        "    ## your code here"
      ]
    },
    {
      "cell_type": "code",
      "execution_count": null,
      "metadata": {
        "colab": {
          "base_uri": "https://localhost:8080/"
        },
        "id": "TjniYKVrYAgC",
        "outputId": "cc7b7480-7e61-45c3-89c4-2cee53029f8f"
      },
      "outputs": [
        {
          "name": "stdout",
          "output_type": "stream",
          "text": [
            "riya\n",
            "3344552314\n",
            "pqr@gmail.com\n"
          ]
        },
        {
          "output_type": "execute_result",
          "data": {
            "text/plain": [
              "[{'name': 'raj', 'number': '1234567891', 'email': 'xyz@gmail.com'},\n",
              " {'name': 'rohit', 'number': '4564564321', 'email': 'abc@gmail.com'},\n",
              " {'name': 'akash', 'number': '6789877465', 'email': 'cde@gmail.com'},\n",
              " {'name': 'riya', 'number': '3344552314', 'email': 'pqr@gmail.com'}]"
            ]
          },
          "metadata": {},
          "execution_count": 7
        }
      ],
      "source": [
        "add_contact(contacts)"
      ]
    },
    {
      "cell_type": "markdown",
      "metadata": {
        "id": "KKA0T-gLYAgD"
      },
      "source": [
        "### Delete Contact\n",
        "\n",
        "Write `delete_contact` function to delete an existing contact by providing `name` of the contact which we want to delete."
      ]
    },
    {
      "cell_type": "code",
      "execution_count": null,
      "metadata": {
        "id": "xtV9cSFzYAgD"
      },
      "outputs": [],
      "source": [
        "def delete_contact( name):\n",
        "  for i in contacts:\n",
        "    # print(i)\n",
        "    if (i['name'])==name:\n",
        "      contacts.remove(i)\n",
        "  return contacts\n",
        "    ## your code here"
      ]
    },
    {
      "cell_type": "code",
      "execution_count": null,
      "metadata": {
        "colab": {
          "base_uri": "https://localhost:8080/"
        },
        "id": "6CYfMg6UYAgD",
        "outputId": "a656c16b-843a-4645-82df-6978e514cb2e"
      },
      "outputs": [
        {
          "output_type": "execute_result",
          "data": {
            "text/plain": [
              "[{'name': 'rohit', 'number': '4564564321', 'email': 'abc@gmail.com'},\n",
              " {'name': 'akash', 'number': '6789877465', 'email': 'cde@gmail.com'},\n",
              " {'name': 'riya', 'number': '3344552314', 'email': 'pqr@gmail.com'}]"
            ]
          },
          "metadata": {},
          "execution_count": 9
        }
      ],
      "source": [
        "name='raj'\n",
        "delete_contact(name)"
      ]
    },
    {
      "cell_type": "code",
      "source": [],
      "metadata": {
        "id": "RTj1ShNuh85N"
      },
      "execution_count": null,
      "outputs": []
    },
    {
      "cell_type": "markdown",
      "metadata": {
        "id": "-EXe027iYAgD"
      },
      "source": [
        "### Update Contact details\n",
        "\n",
        "Let's write `update_contact` function which will *update contact details* such as `name`, `email` & `number`.\n",
        "The functions should take `contacts` and `name` as arguments. It should also print the newly added contact."
      ]
    },
    {
      "cell_type": "code",
      "execution_count": null,
      "metadata": {
        "id": "dPQTq3iDYAgE"
      },
      "outputs": [],
      "source": [
        "def update_contact(contacts, name):\n",
        "  for i in contacts:\n",
        "    if i['name']==name:\n",
        "      i['name']=input()\n",
        "      i['number']=input()\n",
        "      i['email']=input()\n",
        "  return contacts\n",
        "\n",
        "        ## your code here"
      ]
    },
    {
      "cell_type": "code",
      "execution_count": null,
      "metadata": {
        "colab": {
          "base_uri": "https://localhost:8080/"
        },
        "id": "xpUil_DiYAgE",
        "outputId": "c06cbf76-f133-4c50-d0e4-31a36b7568ce"
      },
      "outputs": [
        {
          "output_type": "execute_result",
          "data": {
            "text/plain": [
              "[{'name': 'rohit', 'number': '4564564321', 'email': 'abc@gmail.com'},\n",
              " {'name': '', 'number': '', 'email': 'sde@gmail.com'}]"
            ]
          },
          "metadata": {},
          "execution_count": 57
        }
      ],
      "source": [
        "name = 'akash'\n",
        "update_contact(contacts, name)\n"
      ]
    },
    {
      "cell_type": "markdown",
      "metadata": {
        "id": "e0wMCUboYAgE"
      },
      "source": [
        "### Open Contact\n",
        "`open_contact` function takes the `contacts` list and a `name` string as input. It prints the contact details if `name` matches some contact name in the `contacts` list, else prints `No match found!`.\n",
        "\n",
        "**Note:** The functions should be case insensitive."
      ]
    },
    {
      "cell_type": "code",
      "execution_count": null,
      "metadata": {
        "id": "1JDF4b-IYAgE"
      },
      "outputs": [],
      "source": [
        "def open_contact(contacts, name):\n",
        "    flag=False\n",
        "    for contact in contacts:\n",
        "      if contact['name'] == name:\n",
        "        print(\"Name: \",contact['name'])\n",
        "        print(\"Number: \",contact['number'])\n",
        "        print(\"Email: \",contact['email'])\n",
        "        flag=True\n",
        "    if flag==False:\n",
        "      print('no match found')\n",
        "\n",
        "\n",
        "\n",
        "\n",
        "\n",
        "    ## your code here"
      ]
    },
    {
      "cell_type": "code",
      "execution_count": null,
      "metadata": {
        "colab": {
          "base_uri": "https://localhost:8080/"
        },
        "id": "FAt5f5AnYAgF",
        "outputId": "bad74b33-ee52-48ca-cde9-a16735918476"
      },
      "outputs": [
        {
          "output_type": "stream",
          "name": "stdout",
          "text": [
            "Name:  riya\n",
            "Number:  3344552314\n",
            "Email:  pqr@gmail.com\n"
          ]
        }
      ],
      "source": [
        "#name = ''\n",
        "open_contact(contacts, 'riya')"
      ]
    },
    {
      "cell_type": "markdown",
      "metadata": {
        "id": "vGmBfFY2YAgF"
      },
      "source": [
        "We often see *update* & *delete* options after we open a particular contact. It would be great if we can also implement the same.\n",
        "\n",
        "After opening the contact, the program should wait for user input. The user can press `u` to update & `d` delete contact. Any other key press should be ignored\n",
        "\n",
        "Write the updated `open_contact` function below"
      ]
    },
    {
      "cell_type": "code",
      "execution_count": null,
      "metadata": {
        "id": "orhnXLDLYAgF"
      },
      "outputs": [],
      "source": [
        "def open_contact(contacts, name):\n",
        "    flag=False\n",
        "    for contact in contacts:\n",
        "      if contact['name'] == name:\n",
        "        print(\"Name: \",contact['name'])\n",
        "        print(\"Number: \",contact['number'])\n",
        "        print(\"Email: \",contact['email'])\n",
        "        flag=True\n",
        "        condition =input('for delete contact enter d / for update contact enter u')\n",
        "        if condition =='d':\n",
        "          delete_contact(name)\n",
        "        elif condition =='u':\n",
        "          update_contact(contacts,name)\n",
        "        else:\n",
        "          break\n",
        "\n",
        "\n",
        "    if flag==False:\n",
        "      print('no match found')\n",
        "\n",
        "\n",
        "\n",
        "\n",
        "\n",
        "\n",
        "\n",
        "\n",
        "\n",
        "    ## your code here"
      ]
    },
    {
      "cell_type": "code",
      "execution_count": null,
      "metadata": {
        "colab": {
          "base_uri": "https://localhost:8080/"
        },
        "id": "nP2H260IYAgF",
        "outputId": "bb534d4a-7631-4939-e875-63c99fd4d94a"
      },
      "outputs": [
        {
          "name": "stdout",
          "output_type": "stream",
          "text": [
            "Name:  riya\n",
            "Number:  3344552314\n",
            "Email:  pqr@gmail.com\n",
            "for delete contact enter d / for update contact enter ud\n"
          ]
        }
      ],
      "source": [
        "name = 'riya'\n",
        "open_contact(contacts, name)"
      ]
    },
    {
      "cell_type": "code",
      "source": [
        "show_contacts(contacts)"
      ],
      "metadata": {
        "colab": {
          "base_uri": "https://localhost:8080/"
        },
        "id": "6hJnc8OiRD77",
        "outputId": "21c90002-0030-451e-a7f1-74e7299b785b"
      },
      "execution_count": null,
      "outputs": [
        {
          "output_type": "stream",
          "name": "stdout",
          "text": [
            "rohit\n",
            "\n"
          ]
        }
      ]
    },
    {
      "cell_type": "markdown",
      "metadata": {
        "id": "9oo8YgjDYAgG"
      },
      "source": [
        "### Complete application (using all the above functions in use)\n",
        "\n",
        "We will use an infinite loop to encapsulate our application logic and break only when `q` is pressed. We will use `clear_output()` function from `IPython.display` to clear the output before printing anything new.\n",
        "\n",
        "Below is the pseudo-code to help you build the application logic."
      ]
    },
    {
      "cell_type": "code",
      "execution_count": null,
      "metadata": {
        "id": "TTUZ0urMYAgG"
      },
      "outputs": [],
      "source": [
        "from IPython.display import clear_output\n",
        "\n",
        "while True:\n",
        "\n",
        "    ## show all contacts\n",
        "\n",
        "    action = input(\"Press 'a' - add contact, 'o' - open contact, 's' - search contact, 'q' - quit\")\n",
        "    if action == 'a':\n",
        "        ## add contact\n",
        "\n",
        "    elif action == 'o':\n",
        "        name = input(\"Enter name of the contact you want to open. \")\n",
        "        ## open contact\n",
        "\n",
        "    elif action == 'q':\n",
        "        ## break\n",
        "\n",
        "    else:\n",
        "        ## print incorrect choice"
      ]
    },
    {
      "cell_type": "markdown",
      "metadata": {
        "id": "KQI5hYn5YAgG"
      },
      "source": [
        "## Using files\n",
        "\n",
        "One major problem with the above approach is \"persistent storage\". Every time you close this notebook, all the new contacts are lost. This happens because `contacts` is a python variable. Its lives inside python session. As soon as the session is killed/terminated, all the varibles are also deleted.\n",
        "\n",
        "To address this problem, we will have to use save the contacts in a disk. What better reason to use files? Instead of using *list of dictionary*, use file to save the contacts.\n",
        "\n",
        "Save every new contact in a new-line and use \" , \" to separate the contact fields. This is how the above contacts should look, when saved in a file.\n",
        "\n",
        "```text\n",
        "vivek, vivek@gmail.com, 9921668254\n",
        "ankur, ankur@gmail.com, 8806807004\n",
        "pranav, pranav@gmail.com, 987654321\n",
        "```\n",
        "\n",
        "You task is to make appropriate changes to the above code to use `contacts.txt` instead of using `contacts` list."
      ]
    },
    {
      "cell_type": "markdown",
      "metadata": {
        "id": "ZCq9CwfYYAgG"
      },
      "source": [
        "## Using Regex\n",
        "\n",
        "Yet another problem with our app is \"lack of validation\". While creating a new contact, user is free to enter anything. But why is that a problem?\n",
        "\n",
        "**Input validation** is important to ensure only properly formed data is entering the workflow in an information system, preventing malformed data from persisting in the database and triggering malfunction of various downstream components. Input validation should happen as early as possible in the data flow, preferably as soon as the data is received. [source](https://cheatsheetseries.owasp.org/cheatsheets/Input_Validation_Cheat_Sheet.html)\n",
        "\n",
        "The above paragraph is the complete gist of Input validation. Read it again & ponder for a minute. Its an important concept when building customer facing applications. We would highly recommend you to Google and read more about it.  \n",
        "\n",
        "Use regular expression to validate user input (before you save it to the file). Implement the following:\n",
        "- `Name` should be all alphabets. \" \" should also be allowed.\n",
        "- For `email` refer regex chapter from course material.\n",
        "- `Number` should have 10 digits. Not less, not more. Also, not alphabets should be allowed.\n",
        "- Add a new field `DOB` to each contact. It should follow YYYY-MM-DD format. Then write a regular expression to validate it. Remember, date & month cannot be greater that 31 & 12, respectively.\n",
        "\n",
        "Can you think of any more validations?"
      ]
    },
    {
      "cell_type": "markdown",
      "metadata": {
        "id": "8fm7gnF3YAgH"
      },
      "source": [
        "We really hope you had a wonderful time building this applications. This is how applications are developed in really life. You start with a set of basic functionalities and then you keep adding new features (like persistent storage & validation). As the application grows in size, you might encounter new problems to solve."
      ]
    }
  ],
  "metadata": {
    "kernelspec": {
      "display_name": "Python 3",
      "language": "python",
      "name": "python3"
    },
    "language_info": {
      "codemirror_mode": {
        "name": "ipython",
        "version": 3
      },
      "file_extension": ".py",
      "mimetype": "text/x-python",
      "name": "python",
      "nbconvert_exporter": "python",
      "pygments_lexer": "ipython3",
      "version": "3.7.4"
    },
    "toc": {
      "base_numbering": 1,
      "nav_menu": {},
      "number_sections": true,
      "sideBar": true,
      "skip_h1_title": false,
      "title_cell": "Table of Contents",
      "title_sidebar": "Contents",
      "toc_cell": false,
      "toc_position": {},
      "toc_section_display": true,
      "toc_window_display": false
    },
    "colab": {
      "provenance": []
    }
  },
  "nbformat": 4,
  "nbformat_minor": 0
}